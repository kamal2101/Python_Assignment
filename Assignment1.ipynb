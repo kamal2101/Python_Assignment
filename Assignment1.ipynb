{
 "cells": [
  {
   "cell_type": "raw",
   "id": "cc87f430",
   "metadata": {},
   "source": [
    "Q1. In the below elements which of them are values or an expression? eg:- values can be\n",
    "integer or string and expressions will be mathematical operators."
   ]
  },
  {
   "cell_type": "raw",
   "id": "757af39f",
   "metadata": {},
   "source": [
    "'hello',-87.5,6 are values.\n",
    "-,/,+ are expression"
   ]
  },
  {
   "cell_type": "raw",
   "id": "2ded027a",
   "metadata": {},
   "source": [
    "Q2. What is the difference between string and variable?"
   ]
  },
  {
   "cell_type": "raw",
   "id": "4aa6fbcc",
   "metadata": {},
   "source": [
    "String is an information. Variable store information."
   ]
  },
  {
   "cell_type": "raw",
   "id": "2f322e6e",
   "metadata": {},
   "source": [
    "Q3. Describe three different data types."
   ]
  },
  {
   "cell_type": "raw",
   "id": "e5e4c8a4",
   "metadata": {},
   "source": [
    "Integer, Float, list,Boolean."
   ]
  },
  {
   "cell_type": "raw",
   "id": "c45d7e7c",
   "metadata": {},
   "source": [
    "Q4. What is an expression made up of? What do all expressions do?"
   ]
  },
  {
   "cell_type": "raw",
   "id": "95ac6127",
   "metadata": {},
   "source": [
    "Expression is madeup of variables, operators and values"
   ]
  },
  {
   "cell_type": "raw",
   "id": "2ede2ddc",
   "metadata": {},
   "source": [
    "Q5. This assignment statements, like spam = 10. What is the difference between an\n",
    "expression and a statement?"
   ]
  },
  {
   "cell_type": "raw",
   "id": "954454b6",
   "metadata": {},
   "source": [
    "Expression is madeup of variables, operators and values and statement is that executes command in python."
   ]
  },
  {
   "cell_type": "raw",
   "id": "a1e1aa35",
   "metadata": {},
   "source": [
    "Q6. After running the following code, what does the variable bacon contain?\n",
    "bacon = 22\n",
    "bacon + 1"
   ]
  },
  {
   "cell_type": "code",
   "execution_count": 12,
   "id": "958c6e35",
   "metadata": {},
   "outputs": [
    {
     "data": {
      "text/plain": [
       "23"
      ]
     },
     "execution_count": 12,
     "metadata": {},
     "output_type": "execute_result"
    }
   ],
   "source": [
    "bacon = 22\n",
    "bacon + 1"
   ]
  },
  {
   "cell_type": "raw",
   "id": "d1d0a324",
   "metadata": {},
   "source": [
    "23"
   ]
  },
  {
   "cell_type": "raw",
   "id": "5c3f5fe9",
   "metadata": {},
   "source": [
    "Q7. What should the values of the following two terms be?\n",
    "'spam'+ 'spamspam'\n",
    "'spam' * 3"
   ]
  },
  {
   "cell_type": "code",
   "execution_count": 13,
   "id": "97c555dc",
   "metadata": {},
   "outputs": [
    {
     "data": {
      "text/plain": [
       "'spamspamspam'"
      ]
     },
     "execution_count": 13,
     "metadata": {},
     "output_type": "execute_result"
    }
   ],
   "source": [
    "'spam'+ 'spamspam'"
   ]
  },
  {
   "cell_type": "code",
   "execution_count": 14,
   "id": "64ed9c33",
   "metadata": {},
   "outputs": [
    {
     "data": {
      "text/plain": [
       "'spamspamspam'"
      ]
     },
     "execution_count": 14,
     "metadata": {},
     "output_type": "execute_result"
    }
   ],
   "source": [
    "'spam' * 3"
   ]
  },
  {
   "cell_type": "raw",
   "id": "68a8c607",
   "metadata": {},
   "source": [
    "'spamspamspam'\n",
    "'spamspamspam'"
   ]
  },
  {
   "cell_type": "raw",
   "id": "bcef5206",
   "metadata": {},
   "source": [
    "Q8. Why is eggs a valid variable name while 100 is invalid"
   ]
  },
  {
   "cell_type": "raw",
   "id": "08d62115",
   "metadata": {},
   "source": [
    "Because variable name can't be numeric."
   ]
  },
  {
   "cell_type": "raw",
   "id": "536e2c58",
   "metadata": {},
   "source": [
    "Q9. What three functions can be used to get the integer, floating-point number, or string\n",
    "version of a value?"
   ]
  },
  {
   "cell_type": "code",
   "execution_count": null,
   "id": "9e3deebf",
   "metadata": {},
   "outputs": [],
   "source": [
    "int(),str(),float()"
   ]
  },
  {
   "cell_type": "code",
   "execution_count": null,
   "id": "554abc64",
   "metadata": {},
   "outputs": [],
   "source": [
    "10. Why does this expression cause an error? How can you fix it?\n",
    "'I have eaten'  + 99 +  'burritos.'"
   ]
  },
  {
   "cell_type": "raw",
   "id": "871ec4b4",
   "metadata": {},
   "source": [
    "Because string and int can't be concate. The error can be resolved using str() function in 99 like : str(99)"
   ]
  },
  {
   "cell_type": "code",
   "execution_count": 17,
   "id": "41ca1f02",
   "metadata": {},
   "outputs": [
    {
     "data": {
      "text/plain": [
       "'I have eaten99burritos.'"
      ]
     },
     "execution_count": 17,
     "metadata": {},
     "output_type": "execute_result"
    }
   ],
   "source": [
    "'I have eaten'  + str(99) +  'burritos.'"
   ]
  }
 ],
 "metadata": {
  "kernelspec": {
   "display_name": "Python 3",
   "language": "python",
   "name": "python3"
  },
  "language_info": {
   "codemirror_mode": {
    "name": "ipython",
    "version": 3
   },
   "file_extension": ".py",
   "mimetype": "text/x-python",
   "name": "python",
   "nbconvert_exporter": "python",
   "pygments_lexer": "ipython3",
   "version": "3.8.8"
  }
 },
 "nbformat": 4,
 "nbformat_minor": 5
}
