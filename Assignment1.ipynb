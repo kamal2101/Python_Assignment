{
 "cells": [
  {
   "cell_type": "markdown",
   "id": "ef4a769f",
   "metadata": {},
   "source": [
    "Q1. In the below elements which of them are values or an expression? eg:- values can be\n",
    "integer or string and expressions will be mathematical operators."
   ]
  },
  {
   "cell_type": "markdown",
   "id": "bd8edd33",
   "metadata": {},
   "source": [
    "'hello',-87.5,6 are values.\n",
    "-,/,+ are expression"
   ]
  },
  {
   "cell_type": "markdown",
   "id": "6e0a5b3b",
   "metadata": {},
   "source": [
    "Q2. What is the difference between string and variable?"
   ]
  },
  {
   "cell_type": "markdown",
   "id": "9b2f95ac",
   "metadata": {},
   "source": [
    "String is an information. Variable store information."
   ]
  },
  {
   "cell_type": "markdown",
   "id": "19affad9",
   "metadata": {},
   "source": [
    "Q3. Describe three different data types."
   ]
  },
  {
   "cell_type": "markdown",
   "id": "489bbdc7",
   "metadata": {},
   "source": [
    "Integer, Float, list,Boolean."
   ]
  },
  {
   "cell_type": "markdown",
   "id": "f2d6a17a",
   "metadata": {},
   "source": [
    "Q4. What is an expression made up of? What do all expressions do?"
   ]
  },
  {
   "cell_type": "markdown",
   "id": "ec255350",
   "metadata": {},
   "source": [
    "Expression is madeup of variables, operators and values"
   ]
  },
  {
   "cell_type": "markdown",
   "id": "adf62f1a",
   "metadata": {},
   "source": [
    "Q5. This assignment statements, like spam = 10. What is the difference between an\n",
    "expression and a statement?"
   ]
  },
  {
   "cell_type": "markdown",
   "id": "22e22db5",
   "metadata": {},
   "source": [
    "Expression is madeup of variables, operators and values and statement is that executes command in python."
   ]
  },
  {
   "cell_type": "markdown",
   "id": "0a900a23",
   "metadata": {},
   "source": [
    "Q6. After running the following code, what does the variable bacon contain?\n",
    "bacon = 22\n",
    "bacon + 1"
   ]
  },
  {
   "cell_type": "code",
   "execution_count": 12,
   "id": "a07462dd",
   "metadata": {},
   "outputs": [
    {
     "data": {
      "text/plain": [
       "23"
      ]
     },
     "execution_count": 12,
     "metadata": {},
     "output_type": "execute_result"
    }
   ],
   "source": [
    "bacon = 22\n",
    "bacon + 1"
   ]
  },
  {
   "cell_type": "raw",
   "id": "0067baf3",
   "metadata": {},
   "source": [
    "23"
   ]
  },
  {
   "cell_type": "markdown",
   "id": "231cfc6b",
   "metadata": {},
   "source": [
    "Q7. What should the values of the following two terms be?\n",
    "'spam'+ 'spamspam'\n",
    "'spam' * 3"
   ]
  },
  {
   "cell_type": "code",
   "execution_count": 13,
   "id": "babed534",
   "metadata": {},
   "outputs": [
    {
     "data": {
      "text/plain": [
       "'spamspamspam'"
      ]
     },
     "execution_count": 13,
     "metadata": {},
     "output_type": "execute_result"
    }
   ],
   "source": [
    "'spam'+ 'spamspam'"
   ]
  },
  {
   "cell_type": "code",
   "execution_count": 18,
   "id": "1c207ebb",
   "metadata": {},
   "outputs": [
    {
     "data": {
      "text/plain": [
       "'spamspamspam'"
      ]
     },
     "execution_count": 18,
     "metadata": {},
     "output_type": "execute_result"
    }
   ],
   "source": [
    "'spam' * 3"
   ]
  },
  {
   "cell_type": "raw",
   "id": "aa113ffc",
   "metadata": {},
   "source": [
    "'spamspamspam'\n",
    "'spamspamspam'"
   ]
  },
  {
   "cell_type": "markdown",
   "id": "7331ec24",
   "metadata": {},
   "source": [
    "Q8. Why is eggs a valid variable name while 100 is invalid"
   ]
  },
  {
   "cell_type": "markdown",
   "id": "5483e28a",
   "metadata": {},
   "source": [
    "Because variable name can't be numeric."
   ]
  },
  {
   "cell_type": "markdown",
   "id": "17210d8e",
   "metadata": {},
   "source": [
    "Q9. What three functions can be used to get the integer, floating-point number, or string\n",
    "version of a value?"
   ]
  },
  {
   "cell_type": "markdown",
   "id": "3bc5b713",
   "metadata": {},
   "source": [
    "int(),str(),float()"
   ]
  },
  {
   "cell_type": "markdown",
   "id": "f9ba8d53",
   "metadata": {},
   "source": [
    "10. Why does this expression cause an error? How can you fix it?\n",
    "'I have eaten'  + 99 +  'burritos.'"
   ]
  },
  {
   "cell_type": "markdown",
   "id": "ab5912ee",
   "metadata": {},
   "source": [
    "Because string and int can't be concate. The error can be resolved using str() function in 99 like : str(99)"
   ]
  },
  {
   "cell_type": "code",
   "execution_count": 17,
   "id": "8355ab7a",
   "metadata": {},
   "outputs": [
    {
     "data": {
      "text/plain": [
       "'I have eaten99burritos.'"
      ]
     },
     "execution_count": 17,
     "metadata": {},
     "output_type": "execute_result"
    }
   ],
   "source": [
    "'I have eaten'  + str(99) +  'burritos.'"
   ]
  }
 ],
 "metadata": {
  "kernelspec": {
   "display_name": "Python 3",
   "language": "python",
   "name": "python3"
  },
  "language_info": {
   "codemirror_mode": {
    "name": "ipython",
    "version": 3
   },
   "file_extension": ".py",
   "mimetype": "text/x-python",
   "name": "python",
   "nbconvert_exporter": "python",
   "pygments_lexer": "ipython3",
   "version": "3.8.8"
  }
 },
 "nbformat": 4,
 "nbformat_minor": 5
}
